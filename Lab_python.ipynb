{
 "cells": [
  {
   "cell_type": "code",
   "execution_count": null,
   "metadata": {},
   "outputs": [],
   "source": [
    "#ФИО: Михайлова Ксения  Лабораторная работа по модулю “Python для анализа данных”"
   ]
  },
  {
   "cell_type": "code",
   "execution_count": 1,
   "metadata": {},
   "outputs": [],
   "source": [
    "import math\n",
    "import pandas as pd\n",
    "import numpy as np"
   ]
  },
  {
   "cell_type": "code",
   "execution_count": null,
   "metadata": {},
   "outputs": [],
   "source": [
    "#1"
   ]
  },
  {
   "cell_type": "code",
   "execution_count": 2,
   "metadata": {},
   "outputs": [],
   "source": [
    "def count_num_gt_ten (alist):\n",
    "    result = 0\n",
    "    for i in alist:\n",
    "        if i > 10:\n",
    "            result = result + i\n",
    "        else:\n",
    "            pass\n",
    "    return result    \n",
    "            "
   ]
  },
  {
   "cell_type": "code",
   "execution_count": 3,
   "metadata": {},
   "outputs": [],
   "source": [
    "numbs = [1,23,11,3,4,2,15]"
   ]
  },
  {
   "cell_type": "code",
   "execution_count": 4,
   "metadata": {},
   "outputs": [
    {
     "data": {
      "text/plain": [
       "49"
      ]
     },
     "execution_count": 4,
     "metadata": {},
     "output_type": "execute_result"
    }
   ],
   "source": [
    "count_num_gt_ten (numbs)"
   ]
  },
  {
   "cell_type": "code",
   "execution_count": null,
   "metadata": {},
   "outputs": [],
   "source": [
    "#2"
   ]
  },
  {
   "cell_type": "code",
   "execution_count": 27,
   "metadata": {},
   "outputs": [],
   "source": [
    "def show_line_with_r (alist):\n",
    "    index = 0\n",
    "    for line in alist:\n",
    "        index = len(line)\n",
    "        if line[index - 1] == 'r':\n",
    "            print(line)\n",
    "        else:\n",
    "            pass  "
   ]
  },
  {
   "cell_type": "code",
   "execution_count": 28,
   "metadata": {},
   "outputs": [],
   "source": [
    "data = [\n",
    "'sdgdhhsjdfhdjf',\n",
    "'dfjdfjdfhjsdhf',\n",
    "'2sdfhdjfhjdsfhsdjf',\n",
    "'dfhsdjfhdshgr',\n",
    "'dhshdghsgr',\n",
    "]"
   ]
  },
  {
   "cell_type": "code",
   "execution_count": 29,
   "metadata": {},
   "outputs": [
    {
     "name": "stdout",
     "output_type": "stream",
     "text": [
      "dfhsdjfhdshgr\n",
      "dhshdghsgr\n"
     ]
    }
   ],
   "source": [
    "show_line_with_r (data)"
   ]
  },
  {
   "cell_type": "code",
   "execution_count": null,
   "metadata": {},
   "outputs": [],
   "source": [
    "#3"
   ]
  },
  {
   "cell_type": "code",
   "execution_count": 31,
   "metadata": {},
   "outputs": [],
   "source": [
    "import random"
   ]
  },
  {
   "cell_type": "code",
   "execution_count": 206,
   "metadata": {},
   "outputs": [],
   "source": [
    "def random_num_list ():\n",
    "    result = []\n",
    "    find_num = ''\n",
    "    tmp = 0\n",
    "#  генерация списка с числами\n",
    "    for i in range(6):\n",
    "            num = random.randint(0, 100)\n",
    "            result.append(num)\n",
    "#  ищем цифру три           \n",
    "    for i in result:\n",
    "             find_num = str(i)\n",
    "             if '3' in find_num:\n",
    "                    tmp = i\n",
    "#  если не нашли, то меняем произвольный элемент списка на три                 \n",
    "    if tmp == 0:\n",
    "        index2 = random.randint(0, 5)\n",
    "        result[index2] = 3\n",
    "    print(result)"
   ]
  },
  {
   "cell_type": "code",
   "execution_count": 207,
   "metadata": {},
   "outputs": [
    {
     "name": "stdout",
     "output_type": "stream",
     "text": [
      "[82, 56, 3, 6, 75, 1]\n"
     ]
    }
   ],
   "source": [
    "random_num_list ()"
   ]
  },
  {
   "cell_type": "code",
   "execution_count": null,
   "metadata": {},
   "outputs": [],
   "source": [
    "#4"
   ]
  },
  {
   "cell_type": "code",
   "execution_count": 116,
   "metadata": {},
   "outputs": [],
   "source": [
    "line = 'sjdjsjash, djsdj, dsjsd, dagdssd'"
   ]
  },
  {
   "cell_type": "code",
   "execution_count": 117,
   "metadata": {},
   "outputs": [],
   "source": [
    "sprt = ','"
   ]
  },
  {
   "cell_type": "code",
   "execution_count": 118,
   "metadata": {},
   "outputs": [],
   "source": [
    "def line_param (line, sprt): #line это строка, sprt это разделитель\n",
    "    count = 0\n",
    "    if sprt == '':\n",
    "        for i in line.split():\n",
    "                count = count + 1\n",
    "    else:\n",
    "        for i in line.split(sprt):\n",
    "                count = count + 1\n",
    "    print('Длина строки {}, количество слов {}'.format(len(line), count))"
   ]
  },
  {
   "cell_type": "code",
   "execution_count": 119,
   "metadata": {},
   "outputs": [
    {
     "name": "stdout",
     "output_type": "stream",
     "text": [
      "Длина строки 32, количество слов 4\n"
     ]
    }
   ],
   "source": [
    "line_param (line, sprt)"
   ]
  },
  {
   "cell_type": "code",
   "execution_count": null,
   "metadata": {},
   "outputs": [],
   "source": [
    "#5"
   ]
  },
  {
   "cell_type": "code",
   "execution_count": 157,
   "metadata": {},
   "outputs": [],
   "source": [
    "def sum_matrix_to_array():\n",
    "        matrix = np.linspace(5, 10, 16)\n",
    "        matrix.reshape( 4, 4 )\n",
    "        array = np.array(matrix)\n",
    "        sum_array = 0\n",
    "        for i in array:\n",
    "              sum_array = sum_array + i\n",
    "        print(sum_array)        "
   ]
  },
  {
   "cell_type": "code",
   "execution_count": 158,
   "metadata": {},
   "outputs": [
    {
     "name": "stdout",
     "output_type": "stream",
     "text": [
      "120.0\n"
     ]
    }
   ],
   "source": [
    "sum_matrix_to_array()"
   ]
  },
  {
   "cell_type": "code",
   "execution_count": null,
   "metadata": {},
   "outputs": [],
   "source": [
    "#6"
   ]
  },
  {
   "cell_type": "code",
   "execution_count": 183,
   "metadata": {},
   "outputs": [],
   "source": [
    "students = [\n",
    "[1, 'Качалов Константин Данилович', 18, 'фа-18'],\n",
    "[2, 'Муравьёва Ада Эдуардовна ', 20, 'ии-16'],\n",
    "[3, 'Абрамов Александр Валерьевич', 19, 'фа-18'],\n",
    "[4, 'Данилов Артемий Дмитриевич', 20, 'фф-17'],\n",
    "[5, 'Прокофьев Ерофей Владимирович', 20, 'ии-16'],\n",
    "[6, 'Дмитриева Любава Геннадиевна', 18, 'фа-18'],\n",
    "[7, 'Скачков Нестор Григорьевич', 20, 'ии-16'],\n",
    "[8, 'Холодков Аполлинарий Макарович', 18, 'фа-18'],\n",
    "[9 ,'Герасимова Ульяна Кирилловна ', 20, 'ии-16'],\n",
    "]"
   ]
  },
  {
   "cell_type": "code",
   "execution_count": 184,
   "metadata": {},
   "outputs": [],
   "source": [
    "students_dict = {}"
   ]
  },
  {
   "cell_type": "code",
   "execution_count": 185,
   "metadata": {},
   "outputs": [],
   "source": [
    "def students_to_dict(alist, adict):\n",
    "    for line in alist:\n",
    "          adict.setdefault(line[0], line[1:])"
   ]
  },
  {
   "cell_type": "code",
   "execution_count": 186,
   "metadata": {},
   "outputs": [],
   "source": [
    "students_to_dict(students, students_dict)"
   ]
  },
  {
   "cell_type": "code",
   "execution_count": 187,
   "metadata": {},
   "outputs": [
    {
     "name": "stdout",
     "output_type": "stream",
     "text": [
      "{1: ['Качалов Константин Данилович', 18, 'фа-18'], 2: ['Муравьёва Ада Эдуардовна ', 20, 'ии-16'], 3: ['Абрамов Александр Валерьевич', 19, 'фа-18'], 4: ['Данилов Артемий Дмитриевич', 20, 'фф-17'], 5: ['Прокофьев Ерофей Владимирович', 20, 'ии-16'], 6: ['Дмитриева Любава Геннадиевна', 18, 'фа-18'], 7: ['Скачков Нестор Григорьевич', 20, 'ии-16'], 8: ['Холодков Аполлинарий Макарович', 18, 'фа-18'], 9: ['Герасимова Ульяна Кирилловна ', 20, 'ии-16']}\n"
     ]
    }
   ],
   "source": [
    "print(students_dict)"
   ]
  },
  {
   "cell_type": "code",
   "execution_count": null,
   "metadata": {},
   "outputs": [],
   "source": [
    "#7"
   ]
  },
  {
   "cell_type": "code",
   "execution_count": 190,
   "metadata": {},
   "outputs": [],
   "source": [
    "def students_to_dict(adict, fio, group):\n",
    "    for key, value in adict.items():\n",
    "          if value[0] == fio:\n",
    "                value[2] = group"
   ]
  },
  {
   "cell_type": "code",
   "execution_count": 193,
   "metadata": {},
   "outputs": [],
   "source": [
    "students_to_dict(students_dict, 'Качалов Константин Данилович', 'ии-16')"
   ]
  },
  {
   "cell_type": "code",
   "execution_count": 194,
   "metadata": {},
   "outputs": [
    {
     "name": "stdout",
     "output_type": "stream",
     "text": [
      "{1: ['Качалов Константин Данилович', 18, 'фа-18'], 2: ['Муравьёва Ада Эдуардовна ', 20, 'ии-16'], 3: ['Абрамов Александр Валерьевич', 19, 'фа-18'], 4: ['Данилов Артемий Дмитриевич', 20, 'фф-17'], 5: ['Прокофьев Ерофей Владимирович', 20, 'ии-16'], 6: ['Дмитриева Любава Геннадиевна', 18, 'фа-18'], 7: ['Скачков Нестор Григорьевич', 20, 'ии-16'], 8: ['Холодков Аполлинарий Макарович', 18, 'фа-18'], 9: ['Герасимова Ульяна Кирилловна ', 20, 'ии-16']}\n"
     ]
    }
   ],
   "source": [
    "print(students_dict)"
   ]
  },
  {
   "cell_type": "code",
   "execution_count": null,
   "metadata": {},
   "outputs": [],
   "source": [
    "#8"
   ]
  },
  {
   "cell_type": "code",
   "execution_count": 195,
   "metadata": {},
   "outputs": [],
   "source": [
    "import os, os.path"
   ]
  },
  {
   "cell_type": "code",
   "execution_count": 203,
   "metadata": {},
   "outputs": [],
   "source": [
    "def count_files_in_folder(folder): # folder это имя директории\n",
    "        list = os.listdir(folder) \n",
    "        count_files = len(list)\n",
    "        print(count_files)"
   ]
  },
  {
   "cell_type": "code",
   "execution_count": 205,
   "metadata": {},
   "outputs": [
    {
     "name": "stdout",
     "output_type": "stream",
     "text": [
      "25\n"
     ]
    }
   ],
   "source": [
    "count_files_in_folder('/tmp')"
   ]
  },
  {
   "cell_type": "code",
   "execution_count": null,
   "metadata": {},
   "outputs": [],
   "source": []
  }
 ],
 "metadata": {
  "kernelspec": {
   "display_name": "Python 3",
   "language": "python",
   "name": "python3"
  },
  "language_info": {
   "codemirror_mode": {
    "name": "ipython",
    "version": 3
   },
   "file_extension": ".py",
   "mimetype": "text/x-python",
   "name": "python",
   "nbconvert_exporter": "python",
   "pygments_lexer": "ipython3",
   "version": "3.6.6"
  }
 },
 "nbformat": 4,
 "nbformat_minor": 2
}
