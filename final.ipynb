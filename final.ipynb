{
 "cells": [
  {
   "cell_type": "code",
   "execution_count": 2,
   "metadata": {},
   "outputs": [],
   "source": [
    "import os\n",
    "import logging\n",
    "\n",
    "import psycopg2\n",
    "import psycopg2.extensions\n",
    "import pandas as pd\n",
    "import numpy as np\n",
    "\n",
    "\n",
    "logging.basicConfig(format='%(asctime)s : %(levelname)s : %(message)s', level=logging.INFO)\n",
    "logger = logging.getLogger(__name__)\n"
   ]
  },
  {
   "cell_type": "code",
   "execution_count": 3,
   "metadata": {},
   "outputs": [
    {
     "name": "stderr",
     "output_type": "stream",
     "text": [
      "2018-08-25 23:01:19,495 : INFO : Создаём подключёние к Postgres\n"
     ]
    }
   ],
   "source": [
    "logger.info(\"Создаём подключёние к Postgres\")\n",
    "params = {\n",
    "    \"host\": '0.0.0.0',\n",
    "    \"port\": '5432',\n",
    "    \"user\": 'postgres'\n",
    "}\n",
    "conn = psycopg2.connect(**params)"
   ]
  },
  {
   "cell_type": "code",
   "execution_count": 4,
   "metadata": {},
   "outputs": [],
   "source": [
    "psycopg2.extensions.register_type(\n",
    "    psycopg2.extensions.UNICODE,\n",
    "    conn\n",
    ")\n",
    "conn.set_isolation_level(\n",
    "    psycopg2.extensions.ISOLATION_LEVEL_AUTOCOMMIT\n",
    ")\n",
    "cursor = conn.cursor()\n"
   ]
  },
  {
   "cell_type": "code",
   "execution_count": 8,
   "metadata": {},
   "outputs": [
    {
     "data": {
      "text/plain": [
       "[(1, 'Converge', 'Jane Doe', datetime.date(2001, 9, 4)),\n",
       " (2, 'Converge', 'You Fail Me', datetime.date(2004, 9, 20)),\n",
       " (3, 'Jack the Stripper', 'Raw Nerve', datetime.date(2013, 9, 23)),\n",
       " (4, 'Harlots', 'Betrayer', datetime.date(2007, 1, 1)),\n",
       " (5, 'Architects', 'Hollow Crown', datetime.date(2009, 1, 26)),\n",
       " (6, 'Protest the Hero', 'Kezia', datetime.date(2006, 6, 10)),\n",
       " (7, 'Loftus', 'Hugs & Drugs', datetime.date(2005, 1, 11)),\n",
       " (8,\n",
       "  'Postmortem Promises',\n",
       "  'Postmortem Promises [EP]',\n",
       "  datetime.date(2007, 1, 1)),\n",
       " (9, 'From a Second Story Window', 'Delenda', datetime.date(2006, 7, 11)),\n",
       " (10, 'Eternal Lord', 'Blessed Be This Nightmare', datetime.date(2008, 3, 18))]"
      ]
     },
     "execution_count": 8,
     "metadata": {},
     "output_type": "execute_result"
    }
   ],
   "source": [
    "cursor.execute(\"select * from product limit 10;\")\n",
    "[i for i in cursor.fetchall()]\n"
   ]
  },
  {
   "cell_type": "code",
   "execution_count": 10,
   "metadata": {},
   "outputs": [
    {
     "name": "stderr",
     "output_type": "stream",
     "text": [
      "2018-08-26 00:18:16,412 : INFO : Таблица продуктов\n"
     ]
    },
    {
     "name": "stdout",
     "output_type": "stream",
     "text": [
      "   id             artist         album release_date\n",
      "0   1           Converge      Jane Doe   2001-09-04\n",
      "1   2           Converge   You Fail Me   2004-09-20\n",
      "2   3  Jack the Stripper     Raw Nerve   2013-09-23\n",
      "3   4            Harlots      Betrayer   2007-01-01\n",
      "4   5         Architects  Hollow Crown   2009-01-26\n"
     ]
    }
   ],
   "source": [
    "products = pd.read_sql('SELECT * FROM product', conn)\n",
    "logger.info(\"Таблица продуктов\")\n",
    "print(products.head())\n"
   ]
  },
  {
   "cell_type": "code",
   "execution_count": 11,
   "metadata": {},
   "outputs": [
    {
     "name": "stderr",
     "output_type": "stream",
     "text": [
      "2018-08-26 00:23:11,464 : INFO : Таблица продаж\n"
     ]
    },
    {
     "name": "stdout",
     "output_type": "stream",
     "text": [
      "   id  product_id  customer_id currency  price  quantity\n",
      "0   1          14           32        $   9.43         1\n",
      "1   2          13           57        $  29.25         1\n",
      "2   3           5           33        $   2.34         1\n",
      "3   4          11           69        $  20.12         1\n",
      "4   5           7           67        $  28.03         1\n"
     ]
    }
   ],
   "source": [
    "sales = pd.read_sql('SELECT * FROM sales', conn)\n",
    "logger.info(\"Таблица продаж\")\n",
    "print(sales.head())"
   ]
  },
  {
   "cell_type": "code",
   "execution_count": 33,
   "metadata": {},
   "outputs": [
    {
     "name": "stderr",
     "output_type": "stream",
     "text": [
      "2018-08-26 01:03:48,608 : INFO : Таблица покупателей\n"
     ]
    },
    {
     "name": "stdout",
     "output_type": "stream",
     "text": [
      "   id first_name  last_name     bithday\n",
      "0   1        Ann    Mccarty  1977-11-28\n",
      "1   2    William     Spears  1987-06-14\n",
      "2   3     Hector  Gillespie  1982-11-08\n",
      "3   4     Cullen   Reynolds  1984-06-22\n",
      "4   5      Nigel    Osborne  1980-09-19\n"
     ]
    }
   ],
   "source": [
    "customers = pd.read_sql('SELECT * FROM customers', conn)\n",
    "logger.info(\"Таблица покупателей\")\n",
    "print(customers.head())"
   ]
  },
  {
   "cell_type": "code",
   "execution_count": 34,
   "metadata": {},
   "outputs": [
    {
     "name": "stderr",
     "output_type": "stream",
     "text": [
      "2018-08-26 01:04:12,023 : INFO : Таблица адресов\n"
     ]
    },
    {
     "name": "stdout",
     "output_type": "stream",
     "text": [
      "   id  customer_id                      country             city  \\\n",
      "0   1           47                  Philippines             Lang   \n",
      "1   2           47                    Nicaragua  Rivi�re-du-Loup   \n",
      "2   3           25  French Southern Territories           Rishra   \n",
      "3   4           56                       Greece          Dhanbad   \n",
      "4   5           22                       Latvia            Minto   \n",
      "\n",
      "                                street  home            phone  \n",
      "0            Ap #686-1230 Ipsum Avenue    10  (03590) 0693525  \n",
      "1  P.O. Box 985, 6453 Penatibus Avenue     5   (057) 06960747  \n",
      "2                    5385 Sociosqu St.    18  (0456) 06042383  \n",
      "3                       618 Magnis St.    37   (068) 48393440  \n",
      "4                   Ap #854-8810 A Ave    21  (00951) 5027843  \n"
     ]
    }
   ],
   "source": [
    "addresses = pd.read_sql('SELECT * FROM addresses', conn)\n",
    "logger.info(\"Таблица адресов\")\n",
    "print(addresses.head())"
   ]
  },
  {
   "cell_type": "code",
   "execution_count": 14,
   "metadata": {
    "scrolled": true
   },
   "outputs": [
    {
     "name": "stdout",
     "output_type": "stream",
     "text": [
      "            price       \n",
      "              min    max\n",
      "product_id              \n",
      "17          12.85  43.44\n",
      "16          21.36  38.28\n",
      "15          10.59  45.46\n",
      "14           2.38  47.17\n",
      "13          11.64  29.25\n"
     ]
    }
   ],
   "source": [
    "min_max_prods = sales.groupby(['product_id']).agg({'price': ['min', 'max']}).sort_values(by='product_id', ascending=False).head(5)\n",
    "print(min_max_prods.head())"
   ]
  },
  {
   "cell_type": "code",
   "execution_count": 31,
   "metadata": {},
   "outputs": [
    {
     "name": "stdout",
     "output_type": "stream",
     "text": [
      "              price\n",
      "                sum\n",
      "customer_id        \n",
      "70           137.53\n",
      "69            69.43\n",
      "68           104.88\n",
      "67            29.58\n",
      "66            43.58\n"
     ]
    }
   ],
   "source": [
    "sum_customer_buys = sales.groupby(['customer_id']).agg({'price' : ['sum']}).sort_values(by='customer_id', ascending=False).head(20)\n",
    "print(sum_customer_buys.head(5))"
   ]
  },
  {
   "cell_type": "code",
   "execution_count": 44,
   "metadata": {},
   "outputs": [
    {
     "name": "stdout",
     "output_type": "stream",
     "text": [
      "  first_name last_name\n",
      "0     Juliet  Castillo\n"
     ]
    }
   ],
   "source": [
    "query1 = customers.merge(addresses[addresses.country == 'Latvia'][['customer_id','id']], how='inner', left_on='id', right_on='customer_id')[['first_name', 'last_name']]\n",
    "print(query1.head())\n"
   ]
  },
  {
   "cell_type": "code",
   "execution_count": 38,
   "metadata": {},
   "outputs": [
    {
     "name": "stdout",
     "output_type": "stream",
     "text": [
      "   id_x first_name  last_name     bithday  id_y  customer_id  \\\n",
      "0     1        Ann    Mccarty  1977-11-28     6            1   \n",
      "1     2    William     Spears  1987-06-14    72            2   \n",
      "2     2    William     Spears  1987-06-14    80            2   \n",
      "3     3     Hector  Gillespie  1982-11-08    22            3   \n",
      "4     4     Cullen   Reynolds  1984-06-22     9            4   \n",
      "\n",
      "             country          city                         street  home  \\\n",
      "0            Lesotho       Venezia                2752 Quam, Road    53   \n",
      "1           Mongolia    Hunstanton            352-4950 Felis Road    39   \n",
      "2  Equatorial Guinea        Arviat        Ap #855-9585 Cursus Rd.     3   \n",
      "3          Lithuania     Candidoni  P.O. Box 956, 5185 Dolor, Av.    28   \n",
      "4           Ethiopia  Acquafondata          484-7232 Accumsan Rd.    13   \n",
      "\n",
      "             phone  \n",
      "0  (0303) 31496842  \n",
      "1  (07315) 8217288  \n",
      "2  (0335) 86636122  \n",
      "3  (0031) 39980692  \n",
      "4  (030599) 382623  \n"
     ]
    }
   ],
   "source": [
    "query2 = customers.merge(addresses, how='inner', left_on='id', right_on='customer_id').head()\n",
    "print(query2.head())"
   ]
  },
  {
   "cell_type": "code",
   "execution_count": 46,
   "metadata": {},
   "outputs": [
    {
     "name": "stdout",
     "output_type": "stream",
     "text": [
      "    id  product_id  customer_id currency  price  quantity\n",
      "3    4          11           69        $  20.12         1\n",
      "4    5           7           67        $  28.03         1\n",
      "5    6           8           48        $  48.56         1\n",
      "13  14           9           57        $  13.08         1\n",
      "21  22           8           55        $  13.08         1\n"
     ]
    }
   ],
   "source": [
    "query3 = sales[sales['product_id'].between(7, 12, inclusive=True)]\n",
    "print(query3.head())"
   ]
  },
  {
   "cell_type": "code",
   "execution_count": null,
   "metadata": {},
   "outputs": [],
   "source": []
  }
 ],
 "metadata": {
  "kernelspec": {
   "display_name": "Python 3",
   "language": "python",
   "name": "python3"
  },
  "language_info": {
   "codemirror_mode": {
    "name": "ipython",
    "version": 3
   },
   "file_extension": ".py",
   "mimetype": "text/x-python",
   "name": "python",
   "nbconvert_exporter": "python",
   "pygments_lexer": "ipython3",
   "version": "3.6.5"
  }
 },
 "nbformat": 4,
 "nbformat_minor": 2
}
